{
  "nbformat": 4,
  "nbformat_minor": 0,
  "metadata": {
    "colab": {
      "name": "webScraping login",
      "provenance": [],
      "authorship_tag": "ABX9TyOSiHTvJ+Mxx34BP6IFuLwM",
      "include_colab_link": true
    },
    "kernelspec": {
      "name": "python3",
      "display_name": "Python 3"
    }
  },
  "cells": [
    {
      "cell_type": "markdown",
      "metadata": {
        "id": "view-in-github",
        "colab_type": "text"
      },
      "source": [
        "<a href=\"https://colab.research.google.com/github/Manvikaul/ML-programs/blob/master/webScraping_login.ipynb\" target=\"_parent\"><img src=\"https://colab.research.google.com/assets/colab-badge.svg\" alt=\"Open In Colab\"/></a>"
      ]
    },
    {
      "cell_type": "code",
      "metadata": {
        "id": "VAP6bqGXBw0f",
        "colab_type": "code",
        "colab": {}
      },
      "source": [
        "import requests\n",
        "from bs4 import BeautifulSoup"
      ],
      "execution_count": 1,
      "outputs": []
    },
    {
      "cell_type": "code",
      "metadata": {
        "id": "zOP_tnMTCIFs",
        "colab_type": "code",
        "colab": {}
      },
      "source": [
        "payload={\n",
        "    'email':'test123@codeheroku.com',   #check name from html to know the name of the field\n",
        "    'password':'test123',\n",
        "    '_formname':'login'\n",
        "}\n",
        "\n",
        "session_request=requests.session()"
      ],
      "execution_count": 8,
      "outputs": []
    },
    {
      "cell_type": "code",
      "metadata": {
        "id": "eHxWqn3VZErI",
        "colab_type": "code",
        "colab": {
          "base_uri": "https://localhost:8080/",
          "height": 34
        },
        "outputId": "ea396404-2e54-4dc2-bbea-9314055ef254"
      },
      "source": [
        "#get request on login page\n",
        "response=session_request.get(\"http://www.codeheroku.com/login\")\n",
        "soup=BeautifulSoup(response.content,'html.parser')\n",
        "tag=soup.find('input',attrs={'name':'_formkey'})\n",
        "print(tag)"
      ],
      "execution_count": 9,
      "outputs": [
        {
          "output_type": "stream",
          "text": [
            "<input name=\"_formkey\" type=\"hidden\" value=\"3a54424f-f057-4fc4-9bc7-57904d601f95\"><input name=\"_formname\" type=\"hidden\" value=\"login\"/></input>\n"
          ],
          "name": "stdout"
        }
      ]
    },
    {
      "cell_type": "code",
      "metadata": {
        "id": "c7NJSxd5alHz",
        "colab_type": "code",
        "colab": {
          "base_uri": "https://localhost:8080/",
          "height": 34
        },
        "outputId": "0ad4f964-1958-4c76-8ba8-2e9b0c1a56af"
      },
      "source": [
        "print(tag['value'])"
      ],
      "execution_count": 10,
      "outputs": [
        {
          "output_type": "stream",
          "text": [
            "3a54424f-f057-4fc4-9bc7-57904d601f95\n"
          ],
          "name": "stdout"
        }
      ]
    },
    {
      "cell_type": "code",
      "metadata": {
        "id": "D91pbFVBaotZ",
        "colab_type": "code",
        "colab": {
          "base_uri": "https://localhost:8080/",
          "height": 34
        },
        "outputId": "3f9343ab-64c7-4969-c71c-787877e94f67"
      },
      "source": [
        "#Add the formkey to the payload\n",
        "payload['_formkey']=tag['value']\n",
        "print(payload)"
      ],
      "execution_count": 11,
      "outputs": [
        {
          "output_type": "stream",
          "text": [
            "{'email': 'test123@codeheroku.com', 'password': 'test123', '_formname': 'login', '_formkey': '3a54424f-f057-4fc4-9bc7-57904d601f95'}\n"
          ],
          "name": "stdout"
        }
      ]
    },
    {
      "cell_type": "code",
      "metadata": {
        "id": "aPvfQ_SmYwp0",
        "colab_type": "code",
        "colab": {
          "base_uri": "https://localhost:8080/",
          "height": 54
        },
        "outputId": "0b1ada84-b161-4f83-bf1e-f964b0b01c2f"
      },
      "source": [
        "#Make post request to login\n",
        "result=session_request.post(\"http://www.codeheroku.com/login\",data=payload)\n",
        "print(result.content)"
      ],
      "execution_count": 12,
      "outputs": [
        {
          "output_type": "stream",
          "text": [
            "b'\\r\\n\\r\\n<!DOCTYPE html>\\r\\n<html lang=\"en-us\">\\r\\n\\t<head>\\r\\n\\t<meta name=\"google-site-verification\" content=\"gBxlq-EtfKgImWoa57BvFVzsNDZAonI-vf_RTUHtlCY\" />\\r\\n\\r\\n\\t<meta charset=\"utf-8\">\\r\\n\\t<meta http-equiv=\"X-UA-Compatible\" content=\"IE=edge\">\\r\\n\\t<meta name=\"viewport\" content=\"width=device-width, initial-scale=1\">\\r\\n\\t<title>CODE HEROKU DASHBOARD</title>\\r\\n\\t<!-- Bootstrap -->\\r\\n\\t<link rel=\"stylesheet\" type=\"text/css\" href=\"../../static/css/bootstrap/bootstrap.min.css\">\\r\\n\\t<!-- Owl-coursel -->\\r\\n\\t<link rel=\"stylesheet\" type=\"text/css\" href=\"../../static/css/owl-coursel/owl.carousel.css\">\\r\\n\\t<link rel=\"stylesheet\" type=\"text/css\" href=\"../../static/css/owl-coursel/owl.theme.css\">\\r\\n\\t<link rel=\"stylesheet\" type=\"text/css\" href=\"../../static/css/owl-coursel/owl.transitions.css\">\\r\\n\\t<!-- Font-awesome -->\\r\\n\\t<link rel=\"stylesheet\" type=\"text/css\" href=\"../../static/css/font-awesome.min.css\">\\r\\n\\r\\n\\r\\n\\t<!-- Animate -->\\r\\n\\t<link rel=\"stylesheet\" type=\"text/css\" href=\"../../static/css/animate.css\">\\r\\n\\t<!-- Css -->\\r\\n\\t<link rel=\"stylesheet\" type=\"text/css\" href=\"../../static/css/css.css\">\\r\\n\\t<!-- Style -->\\r\\n\\t<link rel=\"stylesheet\" type=\"text/css\" href=\"../../static/css/style.css\">\\r\\n\\t<link rel=\"apple-touch-icon\" sizes=\"180x180\" href=\"../../static/favicons/apple-touch-icon.png\">\\r\\n\\t<link rel=\"icon\" type=\"image/png\" sizes=\"32x32\" href=\"../../static/favicons/favicon-32x32.png\">\\r\\n\\t<link rel=\"icon\" type=\"image/png\" sizes=\"16x16\" href=\"../../static/favicons/favicon-16x16.png\">\\r\\n\\t<link rel=\"manifest\" href=\"../../static/favicons/site.webmanifest\">\\r\\n\\t<link rel=\"mask-icon\" href=\"../../static/favicons/safari-pinned-tab.svg\" color=\"#5bbad5\">\\r\\n\\t<link rel=\"shortcut icon\" href=\"../../static/favicons/favicon.ico\">\\r\\n\\t<meta name=\"msapplication-TileColor\" content=\"#da532c\">\\r\\n\\t<meta name=\"msapplication-config\" content=\"../../static/favicons/browserconfig.xml\">\\r\\n\\t<meta name=\"theme-color\" content=\"#ffffff\">\\r\\n\\r\\n\\r\\n\\t<link rel=\"stylesheet\" type=\"text/css\" href=\"../../static/css/dashboard.css\">\\r\\n\\r\\n\\t<link rel=\"stylesheet\" href=\"https://cdnjs.cloudflare.com/ajax/libs/malihu-custom-scrollbar-plugin/3.1.5/jquery.mCustomScrollbar.min.css\">\\r\\n\\r\\n\\r\\n        <!-- Our Custom CSS -->\\r\\n        <link rel=\"stylesheet\" href=\"style2.css\">\\r\\n        <!-- Scrollbar Custom CSS -->\\r\\n        <link rel=\"stylesheet\" href=\"https://cdnjs.cloudflare.com/ajax/libs/malihu-custom-scrollbar-plugin/3.1.5/jquery.mCustomScrollbar.min.css\">\\r\\n\\r\\n\\r\\n\\r\\n\\r\\n\\t<!-- Global site tag (gtag.js) - Google Analytics -->\\r\\n<script async src=\"https://www.googletagmanager.com/gtag/js?id=UA-119657274-1\"></script>\\r\\n<script>\\r\\n  window.dataLayer = window.dataLayer || [];\\r\\n  function gtag(){dataLayer.push(arguments);}\\r\\n  gtag(\\'js\\', new Date());\\r\\n\\r\\n  gtag(\\'config\\', \\'UA-119657274-1\\');\\r\\n</script>\\r\\n\\t<!-- Facebook Pixel Code -->\\n<script>\\n  !function(f,b,e,v,n,t,s)\\n  {if(f.fbq)return;n=f.fbq=function(){n.callMethod?\\n  n.callMethod.apply(n,arguments):n.queue.push(arguments)};\\n  if(!f._fbq)f._fbq=n;n.push=n;n.loaded=!0;n.version=\\'2.0\\';\\n  n.queue=[];t=b.createElement(e);t.async=!0;\\n  t.src=v;s=b.getElementsByTagName(e)[0];\\n  s.parentNode.insertBefore(t,s)}(window, document,\\'script\\',\\n  \\'https://connect.facebook.net/en_US/fbevents.js\\');\\n  fbq(\\'init\\', \\'710846232389809\\');\\n  fbq(\\'track\\', \\'PageView\\');\\n</script>\\n<noscript><img height=\"1\" width=\"1\" style=\"display:none\"\\n  src=\"https://www.facebook.com/tr?id=710846232389809&ev=PageView&noscript=1\"\\n/></noscript>\\n<!-- End Facebook Pixel Code -->\\r\\n\\r\\n\\t</head>\\r\\n\\t<body>\\r\\n\\t\\t  <!-- Load Facebook SDK for JavaScript -->\\n<div id=\"fb-root\"></div>\\n<script>(function(d, s, id) {\\n  var js, fjs = d.getElementsByTagName(s)[0];\\n  if (d.getElementById(id)) return;\\n  js = d.createElement(s); js.id = id;\\n  js.src = \\'https://connect.facebook.net/en_US/sdk/xfbml.customerchat.js#xfbml=1&version=v2.12&autoLogAppEvents=1\\';\\n  fjs.parentNode.insertBefore(js, fjs);\\n}(document, \\'script\\', \\'facebook-jssdk\\'));</script>\\n\\n\\n\\r\\n\\r\\n\\r\\n\\r\\n\\t\\t<div class=\"wrapper\">\\r\\n\\t\\t<div id=\"nav-link-name\" style=\"display: none;\">Home</div>\\t\\r\\n\\r\\n\\r\\n\\t\\t<nav id=\"sidebar\">\\r\\n            <div class=\"sidebar-header\">\\r\\n                <!-- <div class=\"col-md-8\"> -->\\r\\n                            <a href=\"/\" class=\"logo\">\\r\\n                                <img src=\"../../static/images/logo-inverted.png\" alt=\"image\" style=\"width: 90%\">\\r\\n                            </a>\\r\\n                  <!--       </div> -->\\r\\n                <p style=\"margin-left: 15%;\"> Welcome Mihir </p>\\r\\n\\r\\n            </div>\\r\\n            \\r\\n\\r\\n            <ul class=\"list-unstyled components\" id=\"dashboard-nav\">\\r\\n                \\r\\n\\r\\n                <li class=\"active\">\\r\\n                    <a href=\"/dashboard.html\"> <i class=\"fa fa-home\"></i> Home</a>\\r\\n                </li>\\r\\n\\r\\n               <!--  <li>\\r\\n                <a href=\"/previous_workshops.html\"> <i class=\"fa fa-toggle-left\"></i> Previous Courses</a>\\r\\n                </li> -->\\r\\n\\r\\n   \\r\\n            </ul>\\r\\n            <ul style=\"margin-top: 100px;\">\\r\\n                 <li >\\r\\n                    <a href=\"/user/logout\"> <i class=\"fa fa-lg fa-sign-out\"></i> Logout</a>\\r\\n                </li>\\r\\n\\r\\n             </ul>   \\r\\n\\r\\n          \\r\\n        </nav>\\r\\n\\r\\n\\t\\t<div id=\"content\">\\r\\n\\t\\t\\t<div class=\"top-header\" style=\"background-color: #f5f5f5;\">\\r\\n\\t\\t\\t\\t<div class=\"container\">\\r\\n\\t\\t\\t\\t\\t<div class=\"row\">\\r\\n\\t\\t\\t\\t\\t\\t<div class=\"col-md-2\">\\r\\n\\t\\t\\t\\t\\t\\t<ul class=\"list-top\"> \\r\\n\\t\\t\\t\\t\\t\\t\\t<li style=\"float: left;\" id=\"sidebarCollapse\"> \\r\\n\\t\\t\\t\\t\\t\\t\\t\\t<i class=\"fa fa-lg fa-bars\"></i>\\r\\n                 \\t\\t\\t\\r\\n                 \\t\\t</li>\\r\\n                 \\t\\t</ul>\\r\\n\\t\\t\\t\\t\\t\\t</div>\\r\\n\\t\\t\\t\\t\\t\\t<div class=\"col-md-6 d-none d-md-block\">\\r\\n\\r\\n\\t\\t\\t\\t\\t\\t\\t<ul class=\"list-top float-right\">\\r\\n\\t\\t\\t\\t\\t\\t\\t\\t\\r\\n\\t\\t\\t\\t\\t\\t\\t\\t<li><i class=\"fa fa-phone m-r-5\"></i>+91-9967578720</li>\\r\\n\\t\\t\\t\\t\\t\\t\\t\\t<li><i class=\"fa fa-envelope-o m-r-5\"></i>hello@codeheroku.com</li>\\r\\n\\t\\t\\t\\t\\t\\t\\t</ul>\\r\\n\\t\\t\\t\\t\\t\\t</div>\\r\\n\\t\\t\\t\\t\\t\\t\\r\\n\\t\\t\\t\\t\\t\\t<div class=\"col-md-4 d-none d-md-block\">\\r\\n\\r\\n\\t\\t\\t\\t\\t\\t\\t<ul class=\"float-right list-top\">\\r\\n\\t\\t\\t\\t\\t\\t\\t\\t\\r\\n\\t\\t\\t\\t\\t\\t\\t\\t<li><a href=\"https://www.facebook.com/Code-Heroku-633559390351275/\"><i class=\"fa fa-facebook\"></i></a></li>\\r\\n\\t\\t\\t\\t\\t\\t\\t\\t<!-- <li><a href=\"#\"><i class=\"fa fa-instagram\"></i></a></li> -->\\r\\n\\t\\t\\t\\t\\t\\t\\t\\t<li><a href=\"#\"><i class=\"fa fa-google\"></i></a></li>\\r\\n\\r\\n\\r\\n\\r\\n\\t\\t\\t\\t\\t\\t\\t\\t<!-- <li><a href=\"#\"><i class=\"fa fa-dribbble\"></i></a></li> -->\\r\\n\\t\\t\\t\\t\\t\\t\\t</ul>\\r\\n\\t\\t\\t\\t\\t\\t</div>\\r\\n\\t\\t\\t\\t\\t</div>\\r\\n\\t\\t\\t\\t</div>\\r\\n\\t\\t\\t</div>\\r\\n\\t\\t\\r\\n\\t\\t<section id=\"courses\" class=\"card-group-2 card-padd-0 bg-f5 m-b-0 text-left\">\\r\\n\\t\\t\\t<div class=\"container\">\\r\\n\\t\\t\\t\\t<div class=\"block-title\">\\r\\n\\t\\t\\t\\t\\t\\r\\n\\t\\t\\t\\t\\t<h2 class=\"line-default\">Courses</h2>\\r\\n\\t\\t\\t\\t\\t\\r\\n\\t\\t\\t\\t\\t\\r\\n\\t\\t\\t\\t\\t\\r\\n\\t\\t\\t\\t</div>\\r\\n\\t\\t\\t\\r\\n\\t\\t\\t\\t<div class=\"row\">\\r\\n\\t\\t\\t\\t\\t\\r\\n\\t\\t\\t\\t\\t<div class=\"col-md-12\">\\r\\n\\t\\t\\t\\t\\t\\t\\r\\n\\t\\t\\t\\t\\t\\t<div class=\"card\">\\r\\n\\t\\t\\t\\t\\t\\t\\t\\r\\n\\t\\t\\t\\t\\t\\t\\t\\r\\n\\t\\t\\t\\t\\t\\t\\t\\t<div class=\"row\">\\r\\n\\r\\n\\t\\t\\t\\t\\t\\t\\t\\t\\t<div class=\"col-md-4\">\\r\\n\\t\\t\\t\\t\\t\\t\\t\\t<a href=\"/course_content?lesson_id=0&course_id=1&section_id=0\">\\r\\n\\t\\t\\t\\t\\t\\t\\t\\t<img src=\"../../static/images/nn-card.png\" alt=\"image\" style=\"height:300px;\">\\r\\n\\t\\t\\t\\t\\t\\t\\t</a>\\r\\n\\t\\t\\t\\t\\t\\t\\t\\r\\n\\t\\t\\t\\t\\t\\r\\n\\t\\t\\t\\t\\t\\t\\t\\t\\t</div>\\r\\n\\t\\t\\t\\t\\t\\t\\t\\t\\t<div class=\"col-md-8\">\\r\\n\\r\\n\\t\\t\\t\\t\\t\\t\\t\\r\\n\\t\\t\\t\\t\\t\\t\\r\\n\\t\\t\\t\\t\\t\\t\\t\\t\\t\\t<div class=\"card-body m-t-20\">\\r\\n\\r\\n\\t\\t\\t\\t\\t\\t\\t\\t\\t\\t\\t\\r\\n\\r\\n\\t\\t\\t\\t\\t\\t\\t<a href=\"/course_content?lesson_id=0&course_id=1&section_id=0\">\\t\\t\\r\\n\\t\\t\\t\\t\\t\\t\\t\\t<div class=\"media media-md\">\\r\\n\\t\\t\\t\\t\\t\\t\\t\\t\\t\\t\\r\\n\\t\\t\\t\\t\\t\\t\\t\\t\\t\\t\\t<div class=\"media-body\">\\r\\n\\t\\t\\t\\t\\t\\t\\t\\t<a href=\"/course_content?lesson_id=0&course_id=1&section_id=0\">\\r\\n\\t\\t\\t\\t\\t\\t\\t\\t\\t<div class=\"row\"> \\r\\n\\t\\t\\t\\t\\t\\t\\t\\t\\t\\t<div class=\"col-md-12\">\\r\\n\\t\\t\\t\\t\\t\\t\\t\\t\\t\\r\\n\\t\\t\\t\\t\\t\\t\\t\\t\\t\\t\\t<h2 class=\"card-title m-t-0\">\\r\\n\\t\\t\\t\\t\\t\\t\\t\\t\\t\\t\\t\\tMachine Learning Career Track\\r\\n\\r\\n\\t\\t\\t\\t\\t\\t\\t\\t\\t\\t\\t\\t</h2>\\r\\n\\r\\n\\t\\t\\t\\t\\t\\r\\n\\r\\n\\t\\t\\t\\t\\t\\t\\t\\t\\t\\t\\t\\t\\t</div>\\r\\n\\t\\t\\t\\t\\t\\t\\t\\t\\t\\t\\t\\t</div>\\r\\n\\r\\n\\t\\t\\t\\t\\t\\t\\t\\t\\t<div class=\"row\">\\r\\n\\t\\t\\t\\t\\t\\t<div class=\"col-md-12\" style=\"margin-top: 10px;\">\\r\\n\\t\\t\\t\\t\\t\\t\\r\\n\\t\\t\\t\\t\\t\\t\\t<button type=\"submit\" class=\"register-workshop btn btn-lg\" style=\"color:white; background:#E91E63\" workshop-id=\"\"><i style=\"font-size:18px; margin-right: 5px;\"class=\"fa fa-spinner fa-pulse\"\"></i>Watch</button>\\r\\n\\r\\n\\t\\t\\t\\t\\t\\t\\t<a href=\"/course?course_id=1\">\\r\\n\\t\\t\\t\\t\\t\\t\\t<button class=\"register-workshop btn btn-lg\" style=\"color:white; background:#412db9\" workshop-id=\"\"></i>Syllabus</button>\\r\\n\\t\\t\\t\\t\\t\\t</a>\\r\\n\\t\\t\\t\\t\\t\\r\\n\\t\\t\\t\\t\\t\\t\\t\\r\\n\\r\\n\\t\\t\\t\\t\\t\\t\\t\\r\\n\\t\\t\\t\\t\\t\\t\\t\\r\\n\\t\\t\\t\\t\\t\\t\\r\\n\\r\\n\\r\\n\\r\\n\\t\\t\\t\\r\\n\\r\\n\\t\\t\\t\\t\\t\\t\\t\\t\\t\\t\\t\\t\\t</div>\\t\\r\\n\\r\\n\\t\\t\\t\\t\\t\\t\\t\\t\\t\\t\\t\\t</div>\\r\\n\\r\\n\\t\\t\\t\\t\\t\\t\\t\\t\\t\\t\\t</div>\\r\\n\\t\\t\\t\\t\\t\\t\\t\\t\\t\\t\\r\\n\\t\\t\\t\\t\\t\\t\\t\\t\\t\\t\\t\\r\\n\\r\\n\\t\\t\\t\\t\\t\\t\\t\\t\\t\\t</div>\\r\\n\\t\\t\\t\\t\\t\\t\\t\\t\\t\\t</div>\\r\\n\\r\\n\\t\\t\\t\\t\\t\\t\\t\\t</div>\\r\\n\\t\\t\\t\\t\\t\\t\\t</div>\\r\\n\\t\\t\\t\\t\\t\\t</div>\\r\\n\\t\\t\\t\\r\\n\\t\\t\\t\\t\\t\\t\\r\\n\\r\\n\\t\\t\\t\\t\\r\\n\\t\\t\\t\\t\\t</div>\\r\\n\\t\\t\\t\\t</div>\\r\\n\\r\\n\\t\\t\\r\\n\\t\\t\\t\\t\\t\\r\\n\\t\\t\\t</div>\\r\\n\\t\\t</div>\\r\\n\\t</section>\\r\\n\\r\\n\\r\\n\\r\\n<!-- Your customer chat code -->\\n\\n<div class=\"fb-customerchat\"\\n  attribution=setup_tool\\n  page_id=\"633559390351275\"\\n  theme_color=\"#292929\"\\n  logged_in_greeting=\"Hi! Let us know if you have any questions.\"\\n  logged_out_greeting=\"Hi! Let us know if you have any questions.\">\\n</div>\\r\\n\\r\\n\\r\\n\\r\\n\\t\\t\\r\\n\\t\\t</div>\\r\\n\\r\\n\\t\\t</div>\\r\\n\\t\\t\\r\\n\\t\\t<!-- jQuery -->\\r\\n\\t\\t<script src=\"../../static/js/jquery/jquery-2.2.4.min.js\"></script>\\r\\n\\t\\t<!-- Bootstrap -->\\r\\n\\t\\t<script src=\"../../static/js/bootstrap/popper.min.js\"></script>\\r\\n\\t\\t<script src=\"../../static/js/bootstrap/bootstrap.min.js\"></script>\\r\\n\\r\\n\\t\\t    <script src=\"https://cdnjs.cloudflare.com/ajax/libs/malihu-custom-scrollbar-plugin/3.1.5/jquery.mCustomScrollbar.concat.min.js\"></script>\\r\\n\\r\\n\\r\\n\\t\\t<!-- Script -->\\r\\n\\t\\t<script src=\"../../static/js/script.js\"></script>\\r\\n\\r\\n\\t\\t<script src=\"https://unpkg.com/axios/dist/axios.min.js\"></script>\\r\\n\\t\\r\\n\\r\\n\\t<script type=\"text/javascript\">\\r\\n\\t\\t// handle links with @href started with \\'#\\' only\\r\\n$(document).on(\\'click\\', \\'a[href^=\"#\"]\\', function(e) {\\r\\n    // target element id\\r\\n    var id = $(this).attr(\\'href\\');\\r\\n    if(id.includes(\"collapse\")){\\r\\n    \\treturn\\r\\n    }\\r\\n\\r\\n    // target element\\r\\n    var $id = $(id);\\r\\n    if ($id.length === 0) {\\r\\n        return;\\r\\n    }\\r\\n\\r\\n    // prevent standard hash navigation (avoid blinking in IE)\\r\\n    e.preventDefault();\\r\\n\\r\\n    // top position relative to the document\\r\\n    var pos = $id.offset().top - 100;\\r\\n\\r\\n    // animated top scrolling\\r\\n    $(\\'body, html\\').animate({scrollTop: pos});\\r\\n});\\r\\n</script>\\r\\n<script type=\"text/javascript\">\\r\\n\\t$(document).ready(function () {\\r\\n\\r\\n    $(\"#sidebar\").mCustomScrollbar({\\r\\n         theme: \"minimal\"\\r\\n    });\\r\\n\\r\\n    $(\\'#sidebarCollapse\\').on(\\'click\\', function () {\\r\\n        // open or close navbar\\r\\n        $(\\'#sidebar\\').toggleClass(\\'active\\');\\r\\n        // close dropdowns\\r\\n        $(\\'.collapse.in\\').toggleClass(\\'in\\');\\r\\n        // and also adjust aria-expanded attributes we use for the open/closed arrows\\r\\n        // in our CSS\\r\\n        $(\\'a[aria-expanded=true]\\').attr(\\'aria-expanded\\', \\'false\\');\\r\\n    });\\r\\n\\r\\n});\\r\\n</script>\\r\\n\\r\\n <div id=\"fb-root\"></div>\\r\\n  <script>(function(d, s, id) {\\r\\n    var js, fjs = d.getElementsByTagName(s)[0];\\r\\n    if (d.getElementById(id)) return;\\r\\n    js = d.createElement(s); js.id = id;\\r\\n    js.src = \"https://connect.facebook.net/en_US/sdk.js#xfbml=1&version=v3.0\";\\r\\n    fjs.parentNode.insertBefore(js, fjs);\\r\\n  }(document, \\'script\\', \\'facebook-jssdk\\'));</script>\\r\\n\\r\\n\\r\\n\\t</body>\\r\\n</html>'\n"
          ],
          "name": "stdout"
        }
      ]
    },
    {
      "cell_type": "code",
      "metadata": {
        "id": "Jwh7KoYTISqT",
        "colab_type": "code",
        "colab": {
          "base_uri": "https://localhost:8080/",
          "height": 1000
        },
        "outputId": "5f94e8ca-8271-4594-92ca-c68b09126afb"
      },
      "source": [
        "soup=BeautifulSoup(result.content,'html.parser')\n",
        "print(soup.prettify())"
      ],
      "execution_count": 14,
      "outputs": [
        {
          "output_type": "stream",
          "text": [
            "<!DOCTYPE html>\n",
            "<html lang=\"en-us\">\n",
            " <head>\n",
            "  <meta content=\"gBxlq-EtfKgImWoa57BvFVzsNDZAonI-vf_RTUHtlCY\" name=\"google-site-verification\"/>\n",
            "  <meta charset=\"utf-8\"/>\n",
            "  <meta content=\"IE=edge\" http-equiv=\"X-UA-Compatible\"/>\n",
            "  <meta content=\"width=device-width, initial-scale=1\" name=\"viewport\"/>\n",
            "  <title>\n",
            "   CODE HEROKU DASHBOARD\n",
            "  </title>\n",
            "  <!-- Bootstrap -->\n",
            "  <link href=\"../../static/css/bootstrap/bootstrap.min.css\" rel=\"stylesheet\" type=\"text/css\"/>\n",
            "  <!-- Owl-coursel -->\n",
            "  <link href=\"../../static/css/owl-coursel/owl.carousel.css\" rel=\"stylesheet\" type=\"text/css\"/>\n",
            "  <link href=\"../../static/css/owl-coursel/owl.theme.css\" rel=\"stylesheet\" type=\"text/css\"/>\n",
            "  <link href=\"../../static/css/owl-coursel/owl.transitions.css\" rel=\"stylesheet\" type=\"text/css\"/>\n",
            "  <!-- Font-awesome -->\n",
            "  <link href=\"../../static/css/font-awesome.min.css\" rel=\"stylesheet\" type=\"text/css\"/>\n",
            "  <!-- Animate -->\n",
            "  <link href=\"../../static/css/animate.css\" rel=\"stylesheet\" type=\"text/css\"/>\n",
            "  <!-- Css -->\n",
            "  <link href=\"../../static/css/css.css\" rel=\"stylesheet\" type=\"text/css\"/>\n",
            "  <!-- Style -->\n",
            "  <link href=\"../../static/css/style.css\" rel=\"stylesheet\" type=\"text/css\"/>\n",
            "  <link href=\"../../static/favicons/apple-touch-icon.png\" rel=\"apple-touch-icon\" sizes=\"180x180\"/>\n",
            "  <link href=\"../../static/favicons/favicon-32x32.png\" rel=\"icon\" sizes=\"32x32\" type=\"image/png\"/>\n",
            "  <link href=\"../../static/favicons/favicon-16x16.png\" rel=\"icon\" sizes=\"16x16\" type=\"image/png\"/>\n",
            "  <link href=\"../../static/favicons/site.webmanifest\" rel=\"manifest\"/>\n",
            "  <link color=\"#5bbad5\" href=\"../../static/favicons/safari-pinned-tab.svg\" rel=\"mask-icon\"/>\n",
            "  <link href=\"../../static/favicons/favicon.ico\" rel=\"shortcut icon\"/>\n",
            "  <meta content=\"#da532c\" name=\"msapplication-TileColor\"/>\n",
            "  <meta content=\"../../static/favicons/browserconfig.xml\" name=\"msapplication-config\"/>\n",
            "  <meta content=\"#ffffff\" name=\"theme-color\"/>\n",
            "  <link href=\"../../static/css/dashboard.css\" rel=\"stylesheet\" type=\"text/css\"/>\n",
            "  <link href=\"https://cdnjs.cloudflare.com/ajax/libs/malihu-custom-scrollbar-plugin/3.1.5/jquery.mCustomScrollbar.min.css\" rel=\"stylesheet\"/>\n",
            "  <!-- Our Custom CSS -->\n",
            "  <link href=\"style2.css\" rel=\"stylesheet\"/>\n",
            "  <!-- Scrollbar Custom CSS -->\n",
            "  <link href=\"https://cdnjs.cloudflare.com/ajax/libs/malihu-custom-scrollbar-plugin/3.1.5/jquery.mCustomScrollbar.min.css\" rel=\"stylesheet\"/>\n",
            "  <!-- Global site tag (gtag.js) - Google Analytics -->\n",
            "  <script async=\"\" src=\"https://www.googletagmanager.com/gtag/js?id=UA-119657274-1\">\n",
            "  </script>\n",
            "  <script>\n",
            "   window.dataLayer = window.dataLayer || [];\r\n",
            "  function gtag(){dataLayer.push(arguments);}\r\n",
            "  gtag('js', new Date());\r\n",
            "\r\n",
            "  gtag('config', 'UA-119657274-1');\n",
            "  </script>\n",
            "  <!-- Facebook Pixel Code -->\n",
            "  <script>\n",
            "   !function(f,b,e,v,n,t,s)\n",
            "  {if(f.fbq)return;n=f.fbq=function(){n.callMethod?\n",
            "  n.callMethod.apply(n,arguments):n.queue.push(arguments)};\n",
            "  if(!f._fbq)f._fbq=n;n.push=n;n.loaded=!0;n.version='2.0';\n",
            "  n.queue=[];t=b.createElement(e);t.async=!0;\n",
            "  t.src=v;s=b.getElementsByTagName(e)[0];\n",
            "  s.parentNode.insertBefore(t,s)}(window, document,'script',\n",
            "  'https://connect.facebook.net/en_US/fbevents.js');\n",
            "  fbq('init', '710846232389809');\n",
            "  fbq('track', 'PageView');\n",
            "  </script>\n",
            "  <noscript>\n",
            "   <img height=\"1\" src=\"https://www.facebook.com/tr?id=710846232389809&amp;ev=PageView&amp;noscript=1\" style=\"display:none\" width=\"1\"/>\n",
            "  </noscript>\n",
            "  <!-- End Facebook Pixel Code -->\n",
            " </head>\n",
            " <body>\n",
            "  <!-- Load Facebook SDK for JavaScript -->\n",
            "  <div id=\"fb-root\">\n",
            "  </div>\n",
            "  <script>\n",
            "   (function(d, s, id) {\n",
            "  var js, fjs = d.getElementsByTagName(s)[0];\n",
            "  if (d.getElementById(id)) return;\n",
            "  js = d.createElement(s); js.id = id;\n",
            "  js.src = 'https://connect.facebook.net/en_US/sdk/xfbml.customerchat.js#xfbml=1&version=v2.12&autoLogAppEvents=1';\n",
            "  fjs.parentNode.insertBefore(js, fjs);\n",
            "}(document, 'script', 'facebook-jssdk'));\n",
            "  </script>\n",
            "  <div class=\"wrapper\">\n",
            "   <div id=\"nav-link-name\" style=\"display: none;\">\n",
            "    Home\n",
            "   </div>\n",
            "   <nav id=\"sidebar\">\n",
            "    <div class=\"sidebar-header\">\n",
            "     <!-- <div class=\"col-md-8\"> -->\n",
            "     <a class=\"logo\" href=\"/\">\n",
            "      <img alt=\"image\" src=\"../../static/images/logo-inverted.png\" style=\"width: 90%\"/>\n",
            "     </a>\n",
            "     <!--       </div> -->\n",
            "     <p style=\"margin-left: 15%;\">\n",
            "      Welcome Mihir\n",
            "     </p>\n",
            "    </div>\n",
            "    <ul class=\"list-unstyled components\" id=\"dashboard-nav\">\n",
            "     <li class=\"active\">\n",
            "      <a href=\"/dashboard.html\">\n",
            "       <i class=\"fa fa-home\">\n",
            "       </i>\n",
            "       Home\n",
            "      </a>\n",
            "     </li>\n",
            "     <!--  <li>\r\n",
            "                <a href=\"/previous_workshops.html\"> <i class=\"fa fa-toggle-left\"></i> Previous Courses</a>\r\n",
            "                </li> -->\n",
            "    </ul>\n",
            "    <ul style=\"margin-top: 100px;\">\n",
            "     <li>\n",
            "      <a href=\"/user/logout\">\n",
            "       <i class=\"fa fa-lg fa-sign-out\">\n",
            "       </i>\n",
            "       Logout\n",
            "      </a>\n",
            "     </li>\n",
            "    </ul>\n",
            "   </nav>\n",
            "   <div id=\"content\">\n",
            "    <div class=\"top-header\" style=\"background-color: #f5f5f5;\">\n",
            "     <div class=\"container\">\n",
            "      <div class=\"row\">\n",
            "       <div class=\"col-md-2\">\n",
            "        <ul class=\"list-top\">\n",
            "         <li id=\"sidebarCollapse\" style=\"float: left;\">\n",
            "          <i class=\"fa fa-lg fa-bars\">\n",
            "          </i>\n",
            "         </li>\n",
            "        </ul>\n",
            "       </div>\n",
            "       <div class=\"col-md-6 d-none d-md-block\">\n",
            "        <ul class=\"list-top float-right\">\n",
            "         <li>\n",
            "          <i class=\"fa fa-phone m-r-5\">\n",
            "          </i>\n",
            "          +91-9967578720\n",
            "         </li>\n",
            "         <li>\n",
            "          <i class=\"fa fa-envelope-o m-r-5\">\n",
            "          </i>\n",
            "          hello@codeheroku.com\n",
            "         </li>\n",
            "        </ul>\n",
            "       </div>\n",
            "       <div class=\"col-md-4 d-none d-md-block\">\n",
            "        <ul class=\"float-right list-top\">\n",
            "         <li>\n",
            "          <a href=\"https://www.facebook.com/Code-Heroku-633559390351275/\">\n",
            "           <i class=\"fa fa-facebook\">\n",
            "           </i>\n",
            "          </a>\n",
            "         </li>\n",
            "         <!-- <li><a href=\"#\"><i class=\"fa fa-instagram\"></i></a></li> -->\n",
            "         <li>\n",
            "          <a href=\"#\">\n",
            "           <i class=\"fa fa-google\">\n",
            "           </i>\n",
            "          </a>\n",
            "         </li>\n",
            "         <!-- <li><a href=\"#\"><i class=\"fa fa-dribbble\"></i></a></li> -->\n",
            "        </ul>\n",
            "       </div>\n",
            "      </div>\n",
            "     </div>\n",
            "    </div>\n",
            "    <section class=\"card-group-2 card-padd-0 bg-f5 m-b-0 text-left\" id=\"courses\">\n",
            "     <div class=\"container\">\n",
            "      <div class=\"block-title\">\n",
            "       <h2 class=\"line-default\">\n",
            "        Courses\n",
            "       </h2>\n",
            "      </div>\n",
            "      <div class=\"row\">\n",
            "       <div class=\"col-md-12\">\n",
            "        <div class=\"card\">\n",
            "         <div class=\"row\">\n",
            "          <div class=\"col-md-4\">\n",
            "           <a href=\"/course_content?lesson_id=0&amp;course_id=1§ion_id=0\">\n",
            "            <img alt=\"image\" src=\"../../static/images/nn-card.png\" style=\"height:300px;\"/>\n",
            "           </a>\n",
            "          </div>\n",
            "          <div class=\"col-md-8\">\n",
            "           <div class=\"card-body m-t-20\">\n",
            "            <a href=\"/course_content?lesson_id=0&amp;course_id=1§ion_id=0\">\n",
            "             <div class=\"media media-md\">\n",
            "              <div class=\"media-body\">\n",
            "               <a href=\"/course_content?lesson_id=0&amp;course_id=1§ion_id=0\">\n",
            "                <div class=\"row\">\n",
            "                 <div class=\"col-md-12\">\n",
            "                  <h2 class=\"card-title m-t-0\">\n",
            "                   Machine Learning Career Track\n",
            "                  </h2>\n",
            "                 </div>\n",
            "                </div>\n",
            "                <div class=\"row\">\n",
            "                 <div class=\"col-md-12\" style=\"margin-top: 10px;\">\n",
            "                  <button class=\"register-workshop btn btn-lg\" style=\"color:white; background:#E91E63\" type=\"submit\" workshop-id=\"\">\n",
            "                   <i \"=\"\" class=\"fa fa-spinner fa-pulse\" style=\"font-size:18px; margin-right: 5px;\">\n",
            "                   </i>\n",
            "                   Watch\n",
            "                  </button>\n",
            "                  <a href=\"/course?course_id=1\">\n",
            "                   <button class=\"register-workshop btn btn-lg\" style=\"color:white; background:#412db9\" workshop-id=\"\">\n",
            "                   </button>\n",
            "                  </a>\n",
            "                 </div>\n",
            "                </div>\n",
            "               </a>\n",
            "              </div>\n",
            "             </div>\n",
            "            </a>\n",
            "           </div>\n",
            "          </div>\n",
            "         </div>\n",
            "        </div>\n",
            "       </div>\n",
            "      </div>\n",
            "     </div>\n",
            "    </section>\n",
            "   </div>\n",
            "  </div>\n",
            " </body>\n",
            "</html>\n",
            "Syllabus\n",
            "<!-- Your customer chat code -->\n",
            "<div attribution=\"setup_tool\" class=\"fb-customerchat\" logged_in_greeting=\"Hi! Let us know if you have any questions.\" logged_out_greeting=\"Hi! Let us know if you have any questions.\" page_id=\"633559390351275\" theme_color=\"#292929\">\n",
            "</div>\n",
            "<!-- jQuery -->\n",
            "<script src=\"../../static/js/jquery/jquery-2.2.4.min.js\">\n",
            "</script>\n",
            "<!-- Bootstrap -->\n",
            "<script src=\"../../static/js/bootstrap/popper.min.js\">\n",
            "</script>\n",
            "<script src=\"../../static/js/bootstrap/bootstrap.min.js\">\n",
            "</script>\n",
            "<script src=\"https://cdnjs.cloudflare.com/ajax/libs/malihu-custom-scrollbar-plugin/3.1.5/jquery.mCustomScrollbar.concat.min.js\">\n",
            "</script>\n",
            "<!-- Script -->\n",
            "<script src=\"../../static/js/script.js\">\n",
            "</script>\n",
            "<script src=\"https://unpkg.com/axios/dist/axios.min.js\">\n",
            "</script>\n",
            "<script type=\"text/javascript\">\n",
            " // handle links with @href started with '#' only\r\n",
            "$(document).on('click', 'a[href^=\"#\"]', function(e) {\r\n",
            "    // target element id\r\n",
            "    var id = $(this).attr('href');\r\n",
            "    if(id.includes(\"collapse\")){\r\n",
            "    \treturn\r\n",
            "    }\r\n",
            "\r\n",
            "    // target element\r\n",
            "    var $id = $(id);\r\n",
            "    if ($id.length === 0) {\r\n",
            "        return;\r\n",
            "    }\r\n",
            "\r\n",
            "    // prevent standard hash navigation (avoid blinking in IE)\r\n",
            "    e.preventDefault();\r\n",
            "\r\n",
            "    // top position relative to the document\r\n",
            "    var pos = $id.offset().top - 100;\r\n",
            "\r\n",
            "    // animated top scrolling\r\n",
            "    $('body, html').animate({scrollTop: pos});\r\n",
            "});\n",
            "</script>\n",
            "<script type=\"text/javascript\">\n",
            " $(document).ready(function () {\r\n",
            "\r\n",
            "    $(\"#sidebar\").mCustomScrollbar({\r\n",
            "         theme: \"minimal\"\r\n",
            "    });\r\n",
            "\r\n",
            "    $('#sidebarCollapse').on('click', function () {\r\n",
            "        // open or close navbar\r\n",
            "        $('#sidebar').toggleClass('active');\r\n",
            "        // close dropdowns\r\n",
            "        $('.collapse.in').toggleClass('in');\r\n",
            "        // and also adjust aria-expanded attributes we use for the open/closed arrows\r\n",
            "        // in our CSS\r\n",
            "        $('a[aria-expanded=true]').attr('aria-expanded', 'false');\r\n",
            "    });\r\n",
            "\r\n",
            "});\n",
            "</script>\n",
            "<div id=\"fb-root\">\n",
            "</div>\n",
            "<script>\n",
            " (function(d, s, id) {\r\n",
            "    var js, fjs = d.getElementsByTagName(s)[0];\r\n",
            "    if (d.getElementById(id)) return;\r\n",
            "    js = d.createElement(s); js.id = id;\r\n",
            "    js.src = \"https://connect.facebook.net/en_US/sdk.js#xfbml=1&version=v3.0\";\r\n",
            "    fjs.parentNode.insertBefore(js, fjs);\r\n",
            "  }(document, 'script', 'facebook-jssdk'));\n",
            "</script>\n",
            "\n"
          ],
          "name": "stdout"
        }
      ]
    }
  ]
}